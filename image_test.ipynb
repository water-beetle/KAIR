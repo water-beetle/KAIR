{
 "cells": [
  {
   "cell_type": "code",
   "execution_count": 2,
   "metadata": {},
   "outputs": [],
   "source": [
    "l_path = \"./trainsets/Flickr2K/Flickr2K_LR_unknown/X2\"\n",
    "h_path = \"./trainsets/Flickr2K/Flickr2K_HR\""
   ]
  },
  {
   "cell_type": "code",
   "execution_count": 3,
   "metadata": {},
   "outputs": [],
   "source": [
    "import glob\n",
    "\n",
    "l = glob.glob(l_path + \"/*\")\n",
    "h = glob.glob(h_path + \"/*\")"
   ]
  },
  {
   "cell_type": "code",
   "execution_count": 23,
   "metadata": {},
   "outputs": [],
   "source": [
    "from PIL import Image\n",
    "\n",
    "err_list = []\n",
    "err_count = 0\n",
    "\n",
    "for low, high in zip(l, h):\n",
    "    l_im, h_im = Image.open(low), Image.open(high)\n",
    "    l_width, l_height = l_im.size\n",
    "    h_width, h_height = h_im.size\n",
    "\n",
    "    if l_width*2 != h_width or l_height*2 != h_height:\n",
    "        err_count += 1\n",
    "        err_list.append([low, high])\n",
    "\n",
    "    l_im.close\n",
    "    h_im.close\n"
   ]
  },
  {
   "cell_type": "code",
   "execution_count": 24,
   "metadata": {},
   "outputs": [
    {
     "data": {
      "text/plain": [
       "191"
      ]
     },
     "execution_count": 24,
     "metadata": {},
     "output_type": "execute_result"
    }
   ],
   "source": [
    "err_count"
   ]
  },
  {
   "cell_type": "code",
   "execution_count": null,
   "metadata": {},
   "outputs": [],
   "source": []
  }
 ],
 "metadata": {
  "kernelspec": {
   "display_name": "Python 3.9.12 ('study')",
   "language": "python",
   "name": "python3"
  },
  "language_info": {
   "codemirror_mode": {
    "name": "ipython",
    "version": 3
   },
   "file_extension": ".py",
   "mimetype": "text/x-python",
   "name": "python",
   "nbconvert_exporter": "python",
   "pygments_lexer": "ipython3",
   "version": "3.9.12"
  },
  "orig_nbformat": 4,
  "vscode": {
   "interpreter": {
    "hash": "400b7349662b0215602d0e895f5031f5da6e8f3b1b233a1859077c736f0ea3a4"
   }
  }
 },
 "nbformat": 4,
 "nbformat_minor": 2
}
