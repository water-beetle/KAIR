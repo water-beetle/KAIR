{
 "cells": [
  {
   "cell_type": "code",
   "execution_count": 49,
   "metadata": {},
   "outputs": [],
   "source": [
    "import glob\n",
    "import os\n",
    "from PIL import Image\n",
    "\n",
    "low_file_list = glob.glob(\"../trainsets/trainL/Flickr2K/*\")\n",
    "high_file_list = glob.glob(\"../trainsets/trainH/Flickr2K/*\")"
   ]
  },
  {
   "cell_type": "code",
   "execution_count": 50,
   "metadata": {},
   "outputs": [],
   "source": [
    "err_list = []\n",
    "\n",
    "for low_file, high_file in zip(low_file_list, high_file_list):\n",
    "    low_im = Image.open(low_file)\n",
    "    high_im =  Image.open(high_file)\n",
    "    low_width, low_height = low_im.size\n",
    "    high_width, high_height = high_im.size\n",
    "\n",
    "    if low_width * 2 != high_width or low_height * 2 != high_height:\n",
    "        print(low_width, high_width)\n",
    "        err_list.append([low_file, high_file])\n",
    "\n",
    "    low_im.close()\n",
    "    high_im.close()"
   ]
  },
  {
   "cell_type": "code",
   "execution_count": 51,
   "metadata": {},
   "outputs": [
    {
     "data": {
      "text/plain": [
       "0"
      ]
     },
     "execution_count": 51,
     "metadata": {},
     "output_type": "execute_result"
    }
   ],
   "source": [
    "len(err_list)"
   ]
  },
  {
   "cell_type": "code",
   "execution_count": null,
   "metadata": {},
   "outputs": [],
   "source": [
    "err_list[0]"
   ]
  },
  {
   "cell_type": "code",
   "execution_count": 52,
   "metadata": {},
   "outputs": [
    {
     "data": {
      "text/plain": [
       "[]"
      ]
     },
     "execution_count": 52,
     "metadata": {},
     "output_type": "execute_result"
    }
   ],
   "source": [
    "err_list"
   ]
  },
  {
   "cell_type": "code",
   "execution_count": null,
   "metadata": {},
   "outputs": [],
   "source": []
  }
 ],
 "metadata": {
  "kernelspec": {
   "display_name": "Python 3.9.12 ('study')",
   "language": "python",
   "name": "python3"
  },
  "language_info": {
   "codemirror_mode": {
    "name": "ipython",
    "version": 3
   },
   "file_extension": ".py",
   "mimetype": "text/x-python",
   "name": "python",
   "nbconvert_exporter": "python",
   "pygments_lexer": "ipython3",
   "version": "3.9.12"
  },
  "orig_nbformat": 4,
  "vscode": {
   "interpreter": {
    "hash": "400b7349662b0215602d0e895f5031f5da6e8f3b1b233a1859077c736f0ea3a4"
   }
  }
 },
 "nbformat": 4,
 "nbformat_minor": 2
}
